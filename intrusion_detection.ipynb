{
  "cells": [
    {
      "cell_type": "markdown",
      "metadata": {
        "id": "view-in-github",
        "colab_type": "text"
      },
      "source": [
        "<a href=\"https://colab.research.google.com/github/sindhugovi/Intrusion_Detection_HLS/blob/main/intrusion_detection.ipynb\" target=\"_parent\"><img src=\"https://colab.research.google.com/assets/colab-badge.svg\" alt=\"Open In Colab\"/></a>"
      ]
    },
    {
      "cell_type": "markdown",
      "source": [
        "importing libraries"
      ],
      "metadata": {
        "id": "6YPvX1a8vD3r"
      }
    },
    {
      "cell_type": "code",
      "execution_count": null,
      "metadata": {
        "id": "zTHKgHAYkLE-"
      },
      "outputs": [],
      "source": [
        "import pandas as pd\n",
        "import numpy as np\n"
      ]
    },
    {
      "cell_type": "markdown",
      "source": [
        "loading the dataset as pandas dataframe"
      ],
      "metadata": {
        "id": "A8rPBLkSvGro"
      }
    },
    {
      "cell_type": "code",
      "execution_count": null,
      "metadata": {
        "id": "Jxy9GUt5kuEm"
      },
      "outputs": [],
      "source": [
        "data=pd.read_csv(\"IoT_Intrusion.csv\")"
      ]
    },
    {
      "cell_type": "markdown",
      "source": [
        "printing the first 5 rows"
      ],
      "metadata": {
        "id": "TPuJko5qvXI-"
      }
    },
    {
      "cell_type": "code",
      "execution_count": null,
      "metadata": {
        "colab": {
          "base_uri": "https://localhost:8080/",
          "height": 359
        },
        "id": "p2uEJ_eWkumz",
        "outputId": "95de76f8-56ba-42f2-c51e-0a564688b3f3"
      },
      "outputs": [
        {
          "output_type": "execute_result",
          "data": {
            "text/plain": [
              "   flow_duration  Header_Length  Protocol Type  Duration         Rate  \\\n",
              "0       0.000000          54.00           6.00     64.00     0.329807   \n",
              "1       0.000000          57.04           6.33     64.00     4.290556   \n",
              "2       0.000000           0.00           1.00     64.00    33.396799   \n",
              "3       0.328175       76175.00          17.00     64.00  4642.133010   \n",
              "4       0.117320         101.73           6.11     65.91     6.202211   \n",
              "\n",
              "         Srate  Drate  fin_flag_number  syn_flag_number  rst_flag_number  ...  \\\n",
              "0     0.329807    0.0                1                0                1  ...   \n",
              "1     4.290556    0.0                0                0                0  ...   \n",
              "2    33.396799    0.0                0                0                0  ...   \n",
              "3  4642.133010    0.0                0                0                0  ...   \n",
              "4     6.202211    0.0                0                1                0  ...   \n",
              "\n",
              "         Std  Tot size          IAT  Number   Magnitue     Radius  \\\n",
              "0   0.000000     54.00  83343831.92     9.5  10.392305   0.000000   \n",
              "1   2.822973     57.04  82926067.47     9.5  10.464666   4.010353   \n",
              "2   0.000000     42.00  83127993.93     9.5   9.165151   0.000000   \n",
              "3   0.000000     50.00  83015696.38     9.5  10.000000   0.000000   \n",
              "4  23.113111     57.88  82972999.18     9.5  11.346876  32.716243   \n",
              "\n",
              "    Covariance  Variance  Weight             label  \n",
              "0     0.000000      0.00  141.55  DDoS-RSTFINFlood  \n",
              "1   160.987842      0.05  141.55     DoS-TCP_Flood  \n",
              "2     0.000000      0.00  141.55   DDoS-ICMP_Flood  \n",
              "3     0.000000      0.00  141.55     DoS-UDP_Flood  \n",
              "4  3016.808286      0.19  141.55     DoS-SYN_Flood  \n",
              "\n",
              "[5 rows x 47 columns]"
            ],
            "text/html": [
              "\n",
              "  <div id=\"df-b505cf6b-cde6-4133-948c-e13adbd11d7e\" class=\"colab-df-container\">\n",
              "    <div>\n",
              "<style scoped>\n",
              "    .dataframe tbody tr th:only-of-type {\n",
              "        vertical-align: middle;\n",
              "    }\n",
              "\n",
              "    .dataframe tbody tr th {\n",
              "        vertical-align: top;\n",
              "    }\n",
              "\n",
              "    .dataframe thead th {\n",
              "        text-align: right;\n",
              "    }\n",
              "</style>\n",
              "<table border=\"1\" class=\"dataframe\">\n",
              "  <thead>\n",
              "    <tr style=\"text-align: right;\">\n",
              "      <th></th>\n",
              "      <th>flow_duration</th>\n",
              "      <th>Header_Length</th>\n",
              "      <th>Protocol Type</th>\n",
              "      <th>Duration</th>\n",
              "      <th>Rate</th>\n",
              "      <th>Srate</th>\n",
              "      <th>Drate</th>\n",
              "      <th>fin_flag_number</th>\n",
              "      <th>syn_flag_number</th>\n",
              "      <th>rst_flag_number</th>\n",
              "      <th>...</th>\n",
              "      <th>Std</th>\n",
              "      <th>Tot size</th>\n",
              "      <th>IAT</th>\n",
              "      <th>Number</th>\n",
              "      <th>Magnitue</th>\n",
              "      <th>Radius</th>\n",
              "      <th>Covariance</th>\n",
              "      <th>Variance</th>\n",
              "      <th>Weight</th>\n",
              "      <th>label</th>\n",
              "    </tr>\n",
              "  </thead>\n",
              "  <tbody>\n",
              "    <tr>\n",
              "      <th>0</th>\n",
              "      <td>0.000000</td>\n",
              "      <td>54.00</td>\n",
              "      <td>6.00</td>\n",
              "      <td>64.00</td>\n",
              "      <td>0.329807</td>\n",
              "      <td>0.329807</td>\n",
              "      <td>0.0</td>\n",
              "      <td>1</td>\n",
              "      <td>0</td>\n",
              "      <td>1</td>\n",
              "      <td>...</td>\n",
              "      <td>0.000000</td>\n",
              "      <td>54.00</td>\n",
              "      <td>83343831.92</td>\n",
              "      <td>9.5</td>\n",
              "      <td>10.392305</td>\n",
              "      <td>0.000000</td>\n",
              "      <td>0.000000</td>\n",
              "      <td>0.00</td>\n",
              "      <td>141.55</td>\n",
              "      <td>DDoS-RSTFINFlood</td>\n",
              "    </tr>\n",
              "    <tr>\n",
              "      <th>1</th>\n",
              "      <td>0.000000</td>\n",
              "      <td>57.04</td>\n",
              "      <td>6.33</td>\n",
              "      <td>64.00</td>\n",
              "      <td>4.290556</td>\n",
              "      <td>4.290556</td>\n",
              "      <td>0.0</td>\n",
              "      <td>0</td>\n",
              "      <td>0</td>\n",
              "      <td>0</td>\n",
              "      <td>...</td>\n",
              "      <td>2.822973</td>\n",
              "      <td>57.04</td>\n",
              "      <td>82926067.47</td>\n",
              "      <td>9.5</td>\n",
              "      <td>10.464666</td>\n",
              "      <td>4.010353</td>\n",
              "      <td>160.987842</td>\n",
              "      <td>0.05</td>\n",
              "      <td>141.55</td>\n",
              "      <td>DoS-TCP_Flood</td>\n",
              "    </tr>\n",
              "    <tr>\n",
              "      <th>2</th>\n",
              "      <td>0.000000</td>\n",
              "      <td>0.00</td>\n",
              "      <td>1.00</td>\n",
              "      <td>64.00</td>\n",
              "      <td>33.396799</td>\n",
              "      <td>33.396799</td>\n",
              "      <td>0.0</td>\n",
              "      <td>0</td>\n",
              "      <td>0</td>\n",
              "      <td>0</td>\n",
              "      <td>...</td>\n",
              "      <td>0.000000</td>\n",
              "      <td>42.00</td>\n",
              "      <td>83127993.93</td>\n",
              "      <td>9.5</td>\n",
              "      <td>9.165151</td>\n",
              "      <td>0.000000</td>\n",
              "      <td>0.000000</td>\n",
              "      <td>0.00</td>\n",
              "      <td>141.55</td>\n",
              "      <td>DDoS-ICMP_Flood</td>\n",
              "    </tr>\n",
              "    <tr>\n",
              "      <th>3</th>\n",
              "      <td>0.328175</td>\n",
              "      <td>76175.00</td>\n",
              "      <td>17.00</td>\n",
              "      <td>64.00</td>\n",
              "      <td>4642.133010</td>\n",
              "      <td>4642.133010</td>\n",
              "      <td>0.0</td>\n",
              "      <td>0</td>\n",
              "      <td>0</td>\n",
              "      <td>0</td>\n",
              "      <td>...</td>\n",
              "      <td>0.000000</td>\n",
              "      <td>50.00</td>\n",
              "      <td>83015696.38</td>\n",
              "      <td>9.5</td>\n",
              "      <td>10.000000</td>\n",
              "      <td>0.000000</td>\n",
              "      <td>0.000000</td>\n",
              "      <td>0.00</td>\n",
              "      <td>141.55</td>\n",
              "      <td>DoS-UDP_Flood</td>\n",
              "    </tr>\n",
              "    <tr>\n",
              "      <th>4</th>\n",
              "      <td>0.117320</td>\n",
              "      <td>101.73</td>\n",
              "      <td>6.11</td>\n",
              "      <td>65.91</td>\n",
              "      <td>6.202211</td>\n",
              "      <td>6.202211</td>\n",
              "      <td>0.0</td>\n",
              "      <td>0</td>\n",
              "      <td>1</td>\n",
              "      <td>0</td>\n",
              "      <td>...</td>\n",
              "      <td>23.113111</td>\n",
              "      <td>57.88</td>\n",
              "      <td>82972999.18</td>\n",
              "      <td>9.5</td>\n",
              "      <td>11.346876</td>\n",
              "      <td>32.716243</td>\n",
              "      <td>3016.808286</td>\n",
              "      <td>0.19</td>\n",
              "      <td>141.55</td>\n",
              "      <td>DoS-SYN_Flood</td>\n",
              "    </tr>\n",
              "  </tbody>\n",
              "</table>\n",
              "<p>5 rows × 47 columns</p>\n",
              "</div>\n",
              "    <div class=\"colab-df-buttons\">\n",
              "\n",
              "  <div class=\"colab-df-container\">\n",
              "    <button class=\"colab-df-convert\" onclick=\"convertToInteractive('df-b505cf6b-cde6-4133-948c-e13adbd11d7e')\"\n",
              "            title=\"Convert this dataframe to an interactive table.\"\n",
              "            style=\"display:none;\">\n",
              "\n",
              "  <svg xmlns=\"http://www.w3.org/2000/svg\" height=\"24px\" viewBox=\"0 -960 960 960\">\n",
              "    <path d=\"M120-120v-720h720v720H120Zm60-500h600v-160H180v160Zm220 220h160v-160H400v160Zm0 220h160v-160H400v160ZM180-400h160v-160H180v160Zm440 0h160v-160H620v160ZM180-180h160v-160H180v160Zm440 0h160v-160H620v160Z\"/>\n",
              "  </svg>\n",
              "    </button>\n",
              "\n",
              "  <style>\n",
              "    .colab-df-container {\n",
              "      display:flex;\n",
              "      gap: 12px;\n",
              "    }\n",
              "\n",
              "    .colab-df-convert {\n",
              "      background-color: #E8F0FE;\n",
              "      border: none;\n",
              "      border-radius: 50%;\n",
              "      cursor: pointer;\n",
              "      display: none;\n",
              "      fill: #1967D2;\n",
              "      height: 32px;\n",
              "      padding: 0 0 0 0;\n",
              "      width: 32px;\n",
              "    }\n",
              "\n",
              "    .colab-df-convert:hover {\n",
              "      background-color: #E2EBFA;\n",
              "      box-shadow: 0px 1px 2px rgba(60, 64, 67, 0.3), 0px 1px 3px 1px rgba(60, 64, 67, 0.15);\n",
              "      fill: #174EA6;\n",
              "    }\n",
              "\n",
              "    .colab-df-buttons div {\n",
              "      margin-bottom: 4px;\n",
              "    }\n",
              "\n",
              "    [theme=dark] .colab-df-convert {\n",
              "      background-color: #3B4455;\n",
              "      fill: #D2E3FC;\n",
              "    }\n",
              "\n",
              "    [theme=dark] .colab-df-convert:hover {\n",
              "      background-color: #434B5C;\n",
              "      box-shadow: 0px 1px 3px 1px rgba(0, 0, 0, 0.15);\n",
              "      filter: drop-shadow(0px 1px 2px rgba(0, 0, 0, 0.3));\n",
              "      fill: #FFFFFF;\n",
              "    }\n",
              "  </style>\n",
              "\n",
              "    <script>\n",
              "      const buttonEl =\n",
              "        document.querySelector('#df-b505cf6b-cde6-4133-948c-e13adbd11d7e button.colab-df-convert');\n",
              "      buttonEl.style.display =\n",
              "        google.colab.kernel.accessAllowed ? 'block' : 'none';\n",
              "\n",
              "      async function convertToInteractive(key) {\n",
              "        const element = document.querySelector('#df-b505cf6b-cde6-4133-948c-e13adbd11d7e');\n",
              "        const dataTable =\n",
              "          await google.colab.kernel.invokeFunction('convertToInteractive',\n",
              "                                                    [key], {});\n",
              "        if (!dataTable) return;\n",
              "\n",
              "        const docLinkHtml = 'Like what you see? Visit the ' +\n",
              "          '<a target=\"_blank\" href=https://colab.research.google.com/notebooks/data_table.ipynb>data table notebook</a>'\n",
              "          + ' to learn more about interactive tables.';\n",
              "        element.innerHTML = '';\n",
              "        dataTable['output_type'] = 'display_data';\n",
              "        await google.colab.output.renderOutput(dataTable, element);\n",
              "        const docLink = document.createElement('div');\n",
              "        docLink.innerHTML = docLinkHtml;\n",
              "        element.appendChild(docLink);\n",
              "      }\n",
              "    </script>\n",
              "  </div>\n",
              "\n",
              "\n",
              "    <div id=\"df-9f769e16-1b7f-4962-a918-7e2a7357e875\">\n",
              "      <button class=\"colab-df-quickchart\" onclick=\"quickchart('df-9f769e16-1b7f-4962-a918-7e2a7357e875')\"\n",
              "                title=\"Suggest charts\"\n",
              "                style=\"display:none;\">\n",
              "\n",
              "<svg xmlns=\"http://www.w3.org/2000/svg\" height=\"24px\"viewBox=\"0 0 24 24\"\n",
              "     width=\"24px\">\n",
              "    <g>\n",
              "        <path d=\"M19 3H5c-1.1 0-2 .9-2 2v14c0 1.1.9 2 2 2h14c1.1 0 2-.9 2-2V5c0-1.1-.9-2-2-2zM9 17H7v-7h2v7zm4 0h-2V7h2v10zm4 0h-2v-4h2v4z\"/>\n",
              "    </g>\n",
              "</svg>\n",
              "      </button>\n",
              "\n",
              "<style>\n",
              "  .colab-df-quickchart {\n",
              "      --bg-color: #E8F0FE;\n",
              "      --fill-color: #1967D2;\n",
              "      --hover-bg-color: #E2EBFA;\n",
              "      --hover-fill-color: #174EA6;\n",
              "      --disabled-fill-color: #AAA;\n",
              "      --disabled-bg-color: #DDD;\n",
              "  }\n",
              "\n",
              "  [theme=dark] .colab-df-quickchart {\n",
              "      --bg-color: #3B4455;\n",
              "      --fill-color: #D2E3FC;\n",
              "      --hover-bg-color: #434B5C;\n",
              "      --hover-fill-color: #FFFFFF;\n",
              "      --disabled-bg-color: #3B4455;\n",
              "      --disabled-fill-color: #666;\n",
              "  }\n",
              "\n",
              "  .colab-df-quickchart {\n",
              "    background-color: var(--bg-color);\n",
              "    border: none;\n",
              "    border-radius: 50%;\n",
              "    cursor: pointer;\n",
              "    display: none;\n",
              "    fill: var(--fill-color);\n",
              "    height: 32px;\n",
              "    padding: 0;\n",
              "    width: 32px;\n",
              "  }\n",
              "\n",
              "  .colab-df-quickchart:hover {\n",
              "    background-color: var(--hover-bg-color);\n",
              "    box-shadow: 0 1px 2px rgba(60, 64, 67, 0.3), 0 1px 3px 1px rgba(60, 64, 67, 0.15);\n",
              "    fill: var(--button-hover-fill-color);\n",
              "  }\n",
              "\n",
              "  .colab-df-quickchart-complete:disabled,\n",
              "  .colab-df-quickchart-complete:disabled:hover {\n",
              "    background-color: var(--disabled-bg-color);\n",
              "    fill: var(--disabled-fill-color);\n",
              "    box-shadow: none;\n",
              "  }\n",
              "\n",
              "  .colab-df-spinner {\n",
              "    border: 2px solid var(--fill-color);\n",
              "    border-color: transparent;\n",
              "    border-bottom-color: var(--fill-color);\n",
              "    animation:\n",
              "      spin 1s steps(1) infinite;\n",
              "  }\n",
              "\n",
              "  @keyframes spin {\n",
              "    0% {\n",
              "      border-color: transparent;\n",
              "      border-bottom-color: var(--fill-color);\n",
              "      border-left-color: var(--fill-color);\n",
              "    }\n",
              "    20% {\n",
              "      border-color: transparent;\n",
              "      border-left-color: var(--fill-color);\n",
              "      border-top-color: var(--fill-color);\n",
              "    }\n",
              "    30% {\n",
              "      border-color: transparent;\n",
              "      border-left-color: var(--fill-color);\n",
              "      border-top-color: var(--fill-color);\n",
              "      border-right-color: var(--fill-color);\n",
              "    }\n",
              "    40% {\n",
              "      border-color: transparent;\n",
              "      border-right-color: var(--fill-color);\n",
              "      border-top-color: var(--fill-color);\n",
              "    }\n",
              "    60% {\n",
              "      border-color: transparent;\n",
              "      border-right-color: var(--fill-color);\n",
              "    }\n",
              "    80% {\n",
              "      border-color: transparent;\n",
              "      border-right-color: var(--fill-color);\n",
              "      border-bottom-color: var(--fill-color);\n",
              "    }\n",
              "    90% {\n",
              "      border-color: transparent;\n",
              "      border-bottom-color: var(--fill-color);\n",
              "    }\n",
              "  }\n",
              "</style>\n",
              "\n",
              "      <script>\n",
              "        async function quickchart(key) {\n",
              "          const quickchartButtonEl =\n",
              "            document.querySelector('#' + key + ' button');\n",
              "          quickchartButtonEl.disabled = true;  // To prevent multiple clicks.\n",
              "          quickchartButtonEl.classList.add('colab-df-spinner');\n",
              "          try {\n",
              "            const charts = await google.colab.kernel.invokeFunction(\n",
              "                'suggestCharts', [key], {});\n",
              "          } catch (error) {\n",
              "            console.error('Error during call to suggestCharts:', error);\n",
              "          }\n",
              "          quickchartButtonEl.classList.remove('colab-df-spinner');\n",
              "          quickchartButtonEl.classList.add('colab-df-quickchart-complete');\n",
              "        }\n",
              "        (() => {\n",
              "          let quickchartButtonEl =\n",
              "            document.querySelector('#df-9f769e16-1b7f-4962-a918-7e2a7357e875 button');\n",
              "          quickchartButtonEl.style.display =\n",
              "            google.colab.kernel.accessAllowed ? 'block' : 'none';\n",
              "        })();\n",
              "      </script>\n",
              "    </div>\n",
              "\n",
              "    </div>\n",
              "  </div>\n"
            ],
            "application/vnd.google.colaboratory.intrinsic+json": {
              "type": "dataframe",
              "variable_name": "data"
            }
          },
          "metadata": {},
          "execution_count": 3
        }
      ],
      "source": [
        "data.head()"
      ]
    },
    {
      "cell_type": "markdown",
      "source": [
        "information about the dataset"
      ],
      "metadata": {
        "id": "U2ptQrIgvcGQ"
      }
    },
    {
      "cell_type": "code",
      "execution_count": null,
      "metadata": {
        "colab": {
          "base_uri": "https://localhost:8080/"
        },
        "id": "0AzzpFEuk9KY",
        "outputId": "18fb8636-094c-48cc-d71f-c1cf2d1669ec"
      },
      "outputs": [
        {
          "output_type": "stream",
          "name": "stdout",
          "text": [
            "<class 'pandas.core.frame.DataFrame'>\n",
            "RangeIndex: 1048575 entries, 0 to 1048574\n",
            "Data columns (total 47 columns):\n",
            " #   Column           Non-Null Count    Dtype  \n",
            "---  ------           --------------    -----  \n",
            " 0   flow_duration    1048575 non-null  float64\n",
            " 1   Header_Length    1048575 non-null  float64\n",
            " 2   Protocol Type    1048575 non-null  float64\n",
            " 3   Duration         1048575 non-null  float64\n",
            " 4   Rate             1048575 non-null  float64\n",
            " 5   Srate            1048575 non-null  float64\n",
            " 6   Drate            1048575 non-null  float64\n",
            " 7   fin_flag_number  1048575 non-null  int64  \n",
            " 8   syn_flag_number  1048575 non-null  int64  \n",
            " 9   rst_flag_number  1048575 non-null  int64  \n",
            " 10  psh_flag_number  1048575 non-null  int64  \n",
            " 11  ack_flag_number  1048575 non-null  int64  \n",
            " 12  ece_flag_number  1048575 non-null  int64  \n",
            " 13  cwr_flag_number  1048575 non-null  int64  \n",
            " 14  ack_count        1048575 non-null  float64\n",
            " 15  syn_count        1048575 non-null  float64\n",
            " 16  fin_count        1048575 non-null  float64\n",
            " 17  urg_count        1048575 non-null  float64\n",
            " 18  rst_count        1048575 non-null  float64\n",
            " 19  HTTP             1048575 non-null  int64  \n",
            " 20  HTTPS            1048575 non-null  int64  \n",
            " 21  DNS              1048575 non-null  int64  \n",
            " 22  Telnet           1048575 non-null  int64  \n",
            " 23  SMTP             1048575 non-null  int64  \n",
            " 24  SSH              1048575 non-null  int64  \n",
            " 25  IRC              1048575 non-null  int64  \n",
            " 26  TCP              1048575 non-null  int64  \n",
            " 27  UDP              1048575 non-null  int64  \n",
            " 28  DHCP             1048575 non-null  int64  \n",
            " 29  ARP              1048575 non-null  int64  \n",
            " 30  ICMP             1048575 non-null  int64  \n",
            " 31  IPv              1048575 non-null  int64  \n",
            " 32  LLC              1048575 non-null  int64  \n",
            " 33  Tot sum          1048575 non-null  float64\n",
            " 34  Min              1048575 non-null  float64\n",
            " 35  Max              1048575 non-null  float64\n",
            " 36  AVG              1048575 non-null  float64\n",
            " 37  Std              1048575 non-null  float64\n",
            " 38  Tot size         1048575 non-null  float64\n",
            " 39  IAT              1048575 non-null  float64\n",
            " 40  Number           1048575 non-null  float64\n",
            " 41  Magnitue         1048575 non-null  float64\n",
            " 42  Radius           1048575 non-null  float64\n",
            " 43  Covariance       1048575 non-null  float64\n",
            " 44  Variance         1048575 non-null  float64\n",
            " 45  Weight           1048575 non-null  float64\n",
            " 46  label            1048575 non-null  object \n",
            "dtypes: float64(25), int64(21), object(1)\n",
            "memory usage: 376.0+ MB\n"
          ]
        }
      ],
      "source": [
        "data.info()"
      ]
    },
    {
      "cell_type": "markdown",
      "source": [
        "To get the unique values of labels"
      ],
      "metadata": {
        "id": "NN44zFtOvgr5"
      }
    },
    {
      "cell_type": "code",
      "execution_count": null,
      "metadata": {
        "id": "XnsuvHzLnYgH"
      },
      "outputs": [],
      "source": [
        "col_46_values = data.iloc[:, 46]"
      ]
    },
    {
      "cell_type": "code",
      "execution_count": null,
      "metadata": {
        "colab": {
          "base_uri": "https://localhost:8080/"
        },
        "id": "fNr6YuKvmDeQ",
        "outputId": "0eefd3ed-0680-45bd-f850-3d095efd303a"
      },
      "outputs": [
        {
          "output_type": "stream",
          "name": "stdout",
          "text": [
            "Unique values in column 46: ['DDoS-RSTFINFlood' 'DoS-TCP_Flood' 'DDoS-ICMP_Flood' 'DoS-UDP_Flood'\n",
            " 'DoS-SYN_Flood' 'Mirai-greeth_flood' 'DDoS-SynonymousIP_Flood'\n",
            " 'Mirai-udpplain' 'DDoS-SYN_Flood' 'DDoS-PSHACK_Flood' 'DDoS-TCP_Flood'\n",
            " 'DDoS-UDP_Flood' 'BenignTraffic' 'MITM-ArpSpoofing'\n",
            " 'DDoS-ACK_Fragmentation' 'Mirai-greip_flood' 'DoS-HTTP_Flood'\n",
            " 'DDoS-ICMP_Fragmentation' 'Recon-PortScan' 'DNS_Spoofing'\n",
            " 'DDoS-UDP_Fragmentation' 'Recon-OSScan' 'XSS' 'DDoS-HTTP_Flood'\n",
            " 'Recon-HostDiscovery' 'CommandInjection' 'VulnerabilityScan'\n",
            " 'DDoS-SlowLoris' 'Backdoor_Malware' 'BrowserHijacking'\n",
            " 'DictionaryBruteForce' 'SqlInjection' 'Recon-PingSweep'\n",
            " 'Uploading_Attack']\n",
            "Number of unique values: 34\n"
          ]
        }
      ],
      "source": [
        "unique_values = col_46_values.unique()\n",
        "\n",
        "# Count the number of unique values\n",
        "num_unique = col_46_values.nunique()\n",
        "\n",
        "print(\"Unique values in column 46:\", unique_values)\n",
        "print(\"Number of unique values:\", num_unique)"
      ]
    },
    {
      "cell_type": "markdown",
      "source": [
        "splitting the datas into test and train sets and\n",
        "encoding label as number"
      ],
      "metadata": {
        "id": "X_L4MxMGvm7t"
      }
    },
    {
      "cell_type": "code",
      "execution_count": null,
      "metadata": {
        "colab": {
          "base_uri": "https://localhost:8080/"
        },
        "id": "BD6YaJOqnsMY",
        "outputId": "f41bd000-ebab-4b55-b10e-4d57759916ae"
      },
      "outputs": [
        {
          "output_type": "stream",
          "name": "stdout",
          "text": [
            "X_train shape: (46, 1038575), Y_train shape: (1, 1038575)\n",
            "X_dev shape: (46, 10000), Y_dev shape: (1, 10000)\n",
            "Number of classes: 34\n",
            "Classes: ['Backdoor_Malware' 'BenignTraffic' 'BrowserHijacking' 'CommandInjection'\n",
            " 'DDoS-ACK_Fragmentation' 'DDoS-HTTP_Flood' 'DDoS-ICMP_Flood'\n",
            " 'DDoS-ICMP_Fragmentation' 'DDoS-PSHACK_Flood' 'DDoS-RSTFINFlood'\n",
            " 'DDoS-SYN_Flood' 'DDoS-SlowLoris' 'DDoS-SynonymousIP_Flood'\n",
            " 'DDoS-TCP_Flood' 'DDoS-UDP_Flood' 'DDoS-UDP_Fragmentation' 'DNS_Spoofing'\n",
            " 'DictionaryBruteForce' 'DoS-HTTP_Flood' 'DoS-SYN_Flood' 'DoS-TCP_Flood'\n",
            " 'DoS-UDP_Flood' 'MITM-ArpSpoofing' 'Mirai-greeth_flood'\n",
            " 'Mirai-greip_flood' 'Mirai-udpplain' 'Recon-HostDiscovery' 'Recon-OSScan'\n",
            " 'Recon-PingSweep' 'Recon-PortScan' 'SqlInjection' 'Uploading_Attack'\n",
            " 'VulnerabilityScan' 'XSS']\n"
          ]
        }
      ],
      "source": [
        "import pandas as pd\n",
        "import numpy as np\n",
        "\n",
        "\n",
        "# Convert DataFrame to NumPy array\n",
        "data = np.array(data)\n",
        "m, n = data.shape\n",
        "\n",
        "# Shuffle the rows\n",
        "np.random.shuffle(data)\n",
        "\n",
        "# Split and transpose\n",
        "data_dev = data[0:10000].T\n",
        "data_train = data[10000:m].T\n",
        "\n",
        "# Extract labels and features\n",
        "Y_dev = data_dev[46]\n",
        "X_dev = data_dev[0:46].astype(float)  # Convert features to float\n",
        "\n",
        "Y_train = data_train[46]\n",
        "X_train = data_train[0:46].astype(float)\n",
        "\n",
        "# Encode labels consistently\n",
        "all_labels = np.concatenate((Y_train, Y_dev))\n",
        "classes, _ = np.unique(all_labels, return_inverse=True)\n",
        "label_to_index = {label: idx for idx, label in enumerate(classes)}\n",
        "\n",
        "Y_train_encoded = np.vectorize(label_to_index.get)(Y_train).reshape(1, -1)\n",
        "Y_dev_encoded = np.vectorize(label_to_index.get)(Y_dev).reshape(1, -1)\n",
        "\n",
        "# Normalize features using training set statistics (min-max scaling)\n",
        "min_vals = X_train.min(axis=1, keepdims=True)\n",
        "max_vals = X_train.max(axis=1, keepdims=True)\n",
        "\n",
        "X_train = (X_train - min_vals) / (max_vals - min_vals + 1e-8)\n",
        "X_dev = (X_dev - min_vals) / (max_vals - min_vals + 1e-8)\n",
        "\n",
        "# Confirm shapes\n",
        "_, m_train = X_train.shape\n",
        "_, m_dev = X_dev.shape\n",
        "\n",
        "print(f\"X_train shape: {X_train.shape}, Y_train shape: {Y_train_encoded.shape}\")\n",
        "print(f\"X_dev shape: {X_dev.shape}, Y_dev shape: {Y_dev_encoded.shape}\")\n",
        "print(f\"Number of classes: {len(classes)}\")\n",
        "print(\"Classes:\", classes)\n"
      ]
    },
    {
      "cell_type": "code",
      "source": [
        "import numpy as np\n",
        "\n",
        "# Define number of output classes and input features\n",
        "num_classes = 34\n",
        "input_size = 46"
      ],
      "metadata": {
        "id": "z5v0t0Gdbrwi"
      },
      "execution_count": null,
      "outputs": []
    },
    {
      "cell_type": "markdown",
      "source": [
        "intializing weights and bias with some random numbers"
      ],
      "metadata": {
        "id": "rIJzedZpv5mG"
      }
    },
    {
      "cell_type": "code",
      "source": [
        "def init_params():\n",
        "    W1 = np.random.randn(128, input_size) * np.sqrt(2 / input_size)\n",
        "    b1 = np.zeros((128, 1))\n",
        "\n",
        "    W2 = np.random.randn(64, 128) * np.sqrt(2 / 128)\n",
        "    b2 = np.zeros((64, 1))\n",
        "\n",
        "    W3 = np.random.randn(32, 64) * np.sqrt(2 / 64)\n",
        "    b3 = np.zeros((32, 1))\n",
        "\n",
        "    W4 = np.random.randn(num_classes, 32) * np.sqrt(2 / 32)\n",
        "    b4 = np.zeros((num_classes, 1))\n",
        "\n",
        "    return W1, b1, W2, b2, W3, b3, W4, b4\n"
      ],
      "metadata": {
        "id": "8AkdRy_UbsNv"
      },
      "execution_count": null,
      "outputs": []
    },
    {
      "cell_type": "markdown",
      "source": [
        "defining the functions for neural network"
      ],
      "metadata": {
        "id": "l2pdznfQv-c0"
      }
    },
    {
      "cell_type": "code",
      "source": [
        "def ReLU(Z):\n",
        "    return np.maximum(0, Z)\n",
        "\n",
        "def ReLU_deriv(Z):\n",
        "    return Z > 0\n",
        "\n",
        "def softmax(Z):\n",
        "    Z_shifted = Z - np.max(Z, axis=0, keepdims=True)\n",
        "    expZ = np.exp(Z_shifted)\n",
        "    return expZ / np.sum(expZ, axis=0, keepdims=True)\n",
        "\n",
        "def one_hot(Y):\n",
        "    one_hot_Y = np.zeros((num_classes, Y.size))\n",
        "    one_hot_Y[Y, np.arange(Y.size)] = 1\n",
        "    return one_hot_Y\n"
      ],
      "metadata": {
        "id": "MortIk95buKX"
      },
      "execution_count": null,
      "outputs": []
    },
    {
      "cell_type": "markdown",
      "source": [
        "The forward propogation function"
      ],
      "metadata": {
        "id": "TSognW0lwFgt"
      }
    },
    {
      "cell_type": "code",
      "source": [
        "def forward_prop(W1, b1, W2, b2, W3, b3, W4, b4, X):\n",
        "    Z1 = W1 @ X + b1\n",
        "    A1 = ReLU(Z1)\n",
        "\n",
        "    Z2 = W2 @ A1 + b2\n",
        "    A2 = ReLU(Z2)\n",
        "\n",
        "    Z3 = W3 @ A2 + b3\n",
        "    A3 = ReLU(Z3)\n",
        "\n",
        "    Z4 = W4 @ A3 + b4\n",
        "    A4 = softmax(Z4)\n",
        "\n",
        "    return Z1, A1, Z2, A2, Z3, A3, Z4, A4\n"
      ],
      "metadata": {
        "id": "-fj5-RWjbwf3"
      },
      "execution_count": null,
      "outputs": []
    },
    {
      "cell_type": "markdown",
      "source": [
        "the backward propagation function"
      ],
      "metadata": {
        "id": "ocK0Z9IpwMS9"
      }
    },
    {
      "cell_type": "code",
      "source": [
        "def backward_prop(Z1, A1, Z2, A2, Z3, A3, Z4, A4,\n",
        "                  W1, W2, W3, W4, X, Y):\n",
        "    m = X.shape[1]\n",
        "    one_hot_Y = one_hot(Y)\n",
        "\n",
        "    dZ4 = A4 - one_hot_Y\n",
        "    dW4 = (1/m) * dZ4 @ A3.T\n",
        "    db4 = (1/m) * np.sum(dZ4, axis=1, keepdims=True)\n",
        "\n",
        "    dZ3 = W4.T @ dZ4 * ReLU_deriv(Z3)\n",
        "    dW3 = (1/m) * dZ3 @ A2.T\n",
        "    db3 = (1/m) * np.sum(dZ3, axis=1, keepdims=True)\n",
        "\n",
        "    dZ2 = W3.T @ dZ3 * ReLU_deriv(Z2)\n",
        "    dW2 = (1/m) * dZ2 @ A1.T\n",
        "    db2 = (1/m) * np.sum(dZ2, axis=1, keepdims=True)\n",
        "\n",
        "    dZ1 = W2.T @ dZ2 * ReLU_deriv(Z1)\n",
        "    dW1 = (1/m) * dZ1 @ X.T\n",
        "    db1 = (1/m) * np.sum(dZ1, axis=1, keepdims=True)\n",
        "\n",
        "    return dW1, db1, dW2, db2, dW3, db3, dW4, db4\n"
      ],
      "metadata": {
        "id": "kY46RNJHbzCI"
      },
      "execution_count": null,
      "outputs": []
    },
    {
      "cell_type": "markdown",
      "source": [
        "the function for updating weights and parameters"
      ],
      "metadata": {
        "id": "PFwwpaiQwRfv"
      }
    },
    {
      "cell_type": "code",
      "source": [
        "def update_params(W1, b1, W2, b2, W3, b3, W4, b4,\n",
        "                  dW1, db1, dW2, db2, dW3, db3, dW4, db4, alpha):\n",
        "    W1 -= alpha * dW1\n",
        "    b1 -= alpha * db1\n",
        "\n",
        "    W2 -= alpha * dW2\n",
        "    b2 -= alpha * db2\n",
        "\n",
        "    W3 -= alpha * dW3\n",
        "    b3 -= alpha * db3\n",
        "\n",
        "    W4 -= alpha * dW4\n",
        "    b4 -= alpha * db4\n",
        "\n",
        "    return W1, b1, W2, b2, W3, b3, W4, b4\n"
      ],
      "metadata": {
        "id": "JLzQuSFkb1Lr"
      },
      "execution_count": null,
      "outputs": []
    },
    {
      "cell_type": "markdown",
      "source": [
        "the function to find prediction and accuracy"
      ],
      "metadata": {
        "id": "JPCXFaiDwciD"
      }
    },
    {
      "cell_type": "code",
      "source": [
        "def get_predictions(A):\n",
        "    return np.argmax(A, axis=0)\n",
        "\n",
        "def get_accuracy(predictions, Y):\n",
        "    return np.mean(predictions == Y)\n"
      ],
      "metadata": {
        "id": "P6KNKPtLb3ps"
      },
      "execution_count": null,
      "outputs": []
    },
    {
      "cell_type": "markdown",
      "source": [
        "training funtion"
      ],
      "metadata": {
        "id": "dSZ7_i-ewg6f"
      }
    },
    {
      "cell_type": "code",
      "source": [
        "def gradient_descent(X, Y, alpha=0.1, iterations=200):\n",
        "    W1, b1, W2, b2, W3, b3, W4, b4 = init_params()\n",
        "\n",
        "    for i in range(iterations):\n",
        "        Z1, A1, Z2, A2, Z3, A3, Z4, A4 = forward_prop(W1, b1, W2, b2, W3, b3, W4, b4, X)\n",
        "        dW1, db1, dW2, db2, dW3, db3, dW4, db4 = backward_prop(\n",
        "            Z1, A1, Z2, A2, Z3, A3, Z4, A4,\n",
        "            W1, W2, W3, W4, X, Y\n",
        "        )\n",
        "        W1, b1, W2, b2, W3, b3, W4, b4 = update_params(\n",
        "            W1, b1, W2, b2, W3, b3, W4, b4,\n",
        "            dW1, db1, dW2, db2, dW3, db3, dW4, db4,\n",
        "            alpha\n",
        "        )\n",
        "\n",
        "        if i % 10 == 0:\n",
        "            predictions = get_predictions(A4)\n",
        "            acc = get_accuracy(predictions, Y)\n",
        "            print(f\"Iteration {i}: Accuracy = {acc:.4f}\")\n",
        "\n",
        "    return W1, b1, W2, b2, W3, b3, W4, b4\n"
      ],
      "metadata": {
        "id": "zlvVVi1Ub51t"
      },
      "execution_count": null,
      "outputs": []
    },
    {
      "cell_type": "code",
      "source": [
        "# Train the model\n",
        "W1, b1, W2, b2, W3, b3, W4, b4 = gradient_descent(X_train, Y_train_encoded[0], alpha=0.1, iterations=500)\n"
      ],
      "metadata": {
        "id": "6B92GmUEb79A",
        "colab": {
          "base_uri": "https://localhost:8080/"
        },
        "outputId": "f3883343-be58-45d0-d8d2-c0500d4d917b"
      },
      "execution_count": null,
      "outputs": [
        {
          "output_type": "stream",
          "name": "stdout",
          "text": [
            "Iteration 0: Accuracy = 0.0137\n",
            "Iteration 10: Accuracy = 0.3269\n",
            "Iteration 20: Accuracy = 0.6255\n",
            "Iteration 30: Accuracy = 0.6262\n",
            "Iteration 40: Accuracy = 0.6262\n",
            "Iteration 50: Accuracy = 0.6300\n",
            "Iteration 60: Accuracy = 0.6517\n",
            "Iteration 70: Accuracy = 0.6600\n",
            "Iteration 80: Accuracy = 0.6629\n",
            "Iteration 90: Accuracy = 0.6648\n",
            "Iteration 100: Accuracy = 0.6727\n",
            "Iteration 110: Accuracy = 0.6781\n",
            "Iteration 120: Accuracy = 0.6814\n",
            "Iteration 130: Accuracy = 0.6844\n",
            "Iteration 140: Accuracy = 0.6979\n",
            "Iteration 150: Accuracy = 0.7094\n",
            "Iteration 160: Accuracy = 0.7124\n",
            "Iteration 170: Accuracy = 0.7269\n",
            "Iteration 180: Accuracy = 0.6765\n",
            "Iteration 190: Accuracy = 0.6774\n",
            "Iteration 200: Accuracy = 0.6711\n",
            "Iteration 210: Accuracy = 0.6714\n",
            "Iteration 220: Accuracy = 0.6715\n",
            "Iteration 230: Accuracy = 0.6716\n",
            "Iteration 240: Accuracy = 0.6722\n",
            "Iteration 250: Accuracy = 0.6724\n",
            "Iteration 260: Accuracy = 0.6726\n",
            "Iteration 270: Accuracy = 0.6728\n",
            "Iteration 280: Accuracy = 0.6740\n",
            "Iteration 290: Accuracy = 0.6821\n",
            "Iteration 300: Accuracy = 0.6753\n",
            "Iteration 310: Accuracy = 0.6769\n",
            "Iteration 320: Accuracy = 0.6775\n",
            "Iteration 330: Accuracy = 0.6850\n",
            "Iteration 340: Accuracy = 0.6892\n",
            "Iteration 350: Accuracy = 0.6908\n",
            "Iteration 360: Accuracy = 0.6919\n",
            "Iteration 370: Accuracy = 0.6925\n",
            "Iteration 380: Accuracy = 0.6937\n",
            "Iteration 390: Accuracy = 0.6950\n",
            "Iteration 400: Accuracy = 0.6986\n",
            "Iteration 410: Accuracy = 0.6444\n",
            "Iteration 420: Accuracy = 0.7097\n",
            "Iteration 430: Accuracy = 0.7031\n",
            "Iteration 440: Accuracy = 0.7059\n",
            "Iteration 450: Accuracy = 0.7070\n",
            "Iteration 460: Accuracy = 0.7074\n",
            "Iteration 470: Accuracy = 0.7092\n",
            "Iteration 480: Accuracy = 0.7101\n",
            "Iteration 490: Accuracy = 0.7104\n"
          ]
        }
      ]
    },
    {
      "cell_type": "markdown",
      "source": [
        "saving the quantized weights"
      ],
      "metadata": {
        "id": "KfNC7UwZjQAz"
      }
    },
    {
      "cell_type": "code",
      "source": [
        "import numpy as np\n",
        "\n",
        "# Quantize weights and biases to int32 using scale (e.g., Q16.16 format)\n",
        "def quantize_to_int32(arr, scale=1e6):\n",
        "    return np.clip(np.round(arr * scale), -2**31 + 1, 2**31 - 1).astype(np.int32)\n",
        "\n",
        "def quantize_bias_to_int32(bias, scale=1e6):\n",
        "    return np.clip(np.round(bias.reshape(-1) * scale), -2**31 + 1, 2**31 - 1).astype(np.int32)\n"
      ],
      "metadata": {
        "id": "YnW_EnLoiXCV"
      },
      "execution_count": null,
      "outputs": []
    },
    {
      "cell_type": "code",
      "source": [
        "def save_as_header_int32(var, name, filename):\n",
        "    with open(filename, \"w\") as f:\n",
        "        f.write(f\"#ifndef {name.upper()}_H\\n#define {name.upper()}_H\\n\\n\")\n",
        "        f.write(\"#include <stdint.h>\\n\\n\")\n",
        "        f.write(f\"const int32_t {name}[{var.shape[0]}][{var.shape[1]}] = {{\\n\")\n",
        "        for row in var:\n",
        "            f.write(\"  { \" + \", \".join(str(x) for x in row) + \" },\\n\")\n",
        "        f.write(\"};\\n\\n#endif\\n\")\n",
        "\n",
        "def save_bias_as_header_int32(bias, name, filename):\n",
        "    with open(filename, \"w\") as f:\n",
        "        f.write(f\"#ifndef {name.upper()}_H\\n#define {name.upper()}_H\\n\\n\")\n",
        "        f.write(\"#include <stdint.h>\\n\\n\")\n",
        "        f.write(f\"const int32_t {name}[{len(bias)}] = {{\\n  \")\n",
        "        f.write(\", \".join(str(b) for b in bias))\n",
        "        f.write(\"\\n};\\n\\n#endif\\n\")\n"
      ],
      "metadata": {
        "id": "S25E2FFxiYYP"
      },
      "execution_count": null,
      "outputs": []
    },
    {
      "cell_type": "code",
      "source": [
        "# After training: save quantized versions\n",
        "scale = 1e6  # You can tune this value (e.g., 1e5 or 1e7 based on accuracy vs. range)\n",
        "\n",
        "# Quantize weights\n",
        "W1_q = quantize_to_int32(W1, scale)\n",
        "W2_q = quantize_to_int32(W2, scale)\n",
        "W3_q = quantize_to_int32(W3, scale)\n",
        "W4_q = quantize_to_int32(W4, scale)\n",
        "\n",
        "# Quantize biases\n",
        "b1_q = quantize_bias_to_int32(b1, scale)\n",
        "b2_q = quantize_bias_to_int32(b2, scale)\n",
        "b3_q = quantize_bias_to_int32(b3, scale)\n",
        "b4_q = quantize_bias_to_int32(b4, scale)\n",
        "\n",
        "# Save headers\n",
        "save_as_header_int32(W1_q, \"W1\", \"W1.h\")\n",
        "save_as_header_int32(W2_q, \"W2\", \"W2.h\")\n",
        "save_as_header_int32(W3_q, \"W3\", \"W3.h\")\n",
        "save_as_header_int32(W4_q, \"W4\", \"W4.h\")\n",
        "\n",
        "save_bias_as_header_int32(b1_q, \"b1\", \"b1.h\")\n",
        "save_bias_as_header_int32(b2_q, \"b2\", \"b2.h\")\n",
        "save_bias_as_header_int32(b3_q, \"b3\", \"b3.h\")\n",
        "save_bias_as_header_int32(b4_q, \"b4\", \"b4.h\")\n"
      ],
      "metadata": {
        "id": "beBDLH8oibdG"
      },
      "execution_count": null,
      "outputs": []
    },
    {
      "cell_type": "code",
      "source": [
        "W1[0][0]"
      ],
      "metadata": {
        "colab": {
          "base_uri": "https://localhost:8080/"
        },
        "id": "4_dRKtvzjS2S",
        "outputId": "50381b53-9660-4f66-e6dd-0dd481e8fb04"
      },
      "execution_count": null,
      "outputs": [
        {
          "output_type": "execute_result",
          "data": {
            "text/plain": [
              "np.float64(-0.4038683200503629)"
            ]
          },
          "metadata": {},
          "execution_count": 50
        }
      ]
    },
    {
      "cell_type": "code",
      "source": [
        "W1_q[0][0]"
      ],
      "metadata": {
        "colab": {
          "base_uri": "https://localhost:8080/"
        },
        "id": "vL6NI8_yjV6c",
        "outputId": "0c95bf14-ace7-403a-a150-7109f13754f3"
      },
      "execution_count": null,
      "outputs": [
        {
          "output_type": "execute_result",
          "data": {
            "text/plain": [
              "np.int32(-403868)"
            ]
          },
          "metadata": {},
          "execution_count": 51
        }
      ]
    },
    {
      "cell_type": "markdown",
      "source": [
        "exporting the test image as header file"
      ],
      "metadata": {
        "id": "ZJU2oG42wuWT"
      }
    },
    {
      "cell_type": "code",
      "source": [
        "def export_test_sample_fixed32(X_dev, index, filename, scale=1e6, var_name=\"sample_input\"):\n",
        "    \"\"\"\n",
        "    Quantizes and exports a single test input sample as a fixed-point int32 array.\n",
        "\n",
        "    Parameters:\n",
        "        X_dev (ndarray): Dev/test features (46 x m).\n",
        "        index (int): Index of the test sample.\n",
        "        filename (str): Output .h filename.\n",
        "        scale (float): Fixed-point scaling factor (e.g., 1e6).\n",
        "        var_name (str): Name of the C array variable.\n",
        "    \"\"\"\n",
        "    sample = X_dev[:, index]                     # shape: (46,)\n",
        "    quantized = np.clip(np.round(sample * scale), -2**31 + 1, 2**31 - 1).astype(np.int32)\n",
        "\n",
        "    with open(filename, \"w\") as f:\n",
        "        f.write(f\"#ifndef TEST_SAMPLE_H\\n#define TEST_SAMPLE_H\\n\\n\")\n",
        "        f.write(\"#include <stdint.h>\\n\\n\")\n",
        "        f.write(f\"const int32_t {var_name}[46] = {{\\n    \")\n",
        "        f.write(\", \".join(str(val) for val in quantized))\n",
        "        f.write(\"\\n};\\n\\n#endif // TEST_SAMPLE_H\\n\")\n"
      ],
      "metadata": {
        "id": "-HUZsOkYjrLP"
      },
      "execution_count": null,
      "outputs": []
    },
    {
      "cell_type": "code",
      "source": [
        "# Example: Export the 10th test sample (X_dev must be available from your pipeline)\n",
        "export_test_sample_fixed32(X_dev, index=300, filename=\"test_sample.h\", scale=1e6)\n"
      ],
      "metadata": {
        "id": "qkwfKrhMjzie"
      },
      "execution_count": null,
      "outputs": []
    },
    {
      "cell_type": "markdown",
      "source": [
        "for checking the results of hls"
      ],
      "metadata": {
        "id": "JVg01cy0w1Je"
      }
    },
    {
      "cell_type": "code",
      "source": [
        "index = 300 # or whatever index you used in export_test_sample\n",
        "print(\"Encoded label:\", Y_dev_encoded[0, index])\n",
        "print(\"Original label:\", classes[Y_dev_encoded[0, index]])\n"
      ],
      "metadata": {
        "colab": {
          "base_uri": "https://localhost:8080/"
        },
        "id": "E9k-AhjkmVwZ",
        "outputId": "81996251-1259-4fc2-a233-161102be68fa"
      },
      "execution_count": null,
      "outputs": [
        {
          "output_type": "stream",
          "name": "stdout",
          "text": [
            "Encoded label: 14\n",
            "Original label: DDoS-UDP_Flood\n"
          ]
        }
      ]
    },
    {
      "cell_type": "code",
      "source": [
        "\n"
      ],
      "metadata": {
        "id": "PEzN6VyKBHvs"
      },
      "execution_count": null,
      "outputs": []
    }
  ],
  "metadata": {
    "colab": {
      "provenance": [],
      "authorship_tag": "ABX9TyNZuzWPwRUuopA+skiLwaEl",
      "include_colab_link": true
    },
    "kernelspec": {
      "display_name": "Python 3",
      "name": "python3"
    },
    "language_info": {
      "name": "python"
    }
  },
  "nbformat": 4,
  "nbformat_minor": 0
}